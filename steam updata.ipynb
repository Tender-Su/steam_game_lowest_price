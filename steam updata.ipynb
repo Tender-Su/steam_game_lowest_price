{
 "cells": [
  {
   "cell_type": "code",
   "execution_count": 51,
   "metadata": {},
   "outputs": [],
   "source": [
    "#!/usr/bin/python\n",
    "# -*- coding: UTF-8 -*-\n",
    "#sql牛逼\n",
    "import MySQLdb\n",
    "#zz牛逼教我json\n",
    "import json\n",
    "#你看看你个菜鸡用多久\n",
    "import datetime\n",
    "#系统牛逼\n",
    "import os\n",
    "#历史记录？\n",
    "import time\n",
    "#正则表达式天下第一\n",
    "import re"
   ]
  },
  {
   "cell_type": "code",
   "execution_count": 52,
   "metadata": {},
   "outputs": [],
   "source": [
    "def start():\n",
    "    #万事开头难\n",
    "    global conn,curs\n",
    "    conn = MySQLdb.connect(\"127.0.0.1\", \"root\", \"nideshengri\", \"nidekuzi\", charset='utf8' )\n",
    "    # 使用cursor()方法获取操作游标 \n",
    "    curs = conn.cursor()"
   ]
  },
  {
   "cell_type": "code",
   "execution_count": 53,
   "metadata": {},
   "outputs": [],
   "source": [
    "#插入游戏tag\n",
    "def inserttag(idn,tags):\n",
    "    for tag in tags.split(','):\n",
    "        sql=\"\"\"INSERT INTO `nidekuzi`.`id_tag`(SteamId,Tag) VALUES (%d,\"%s\")\"\"\"%(idn,tag.lstrip())\n",
    "        #try:\n",
    "        curs.execute(sql)\n",
    "        #except:\n",
    "            #conn.rollback()\n",
    "        conn.commit()"
   ]
  },
  {
   "cell_type": "code",
   "execution_count": 54,
   "metadata": {},
   "outputs": [],
   "source": [
    "#遍历并读取所有文件\n",
    "def TransAndReadFile(Route):\n",
    "    global files,alldata\n",
    "    files=[]\n",
    "    alldata=[]\n",
    "    for root, dirs, files in os.walk(r'%s'%Route):\n",
    "        pass\n",
    "    #拜拜了您内.json   \n",
    "    for i in range(len(files)):\n",
    "        files[i]=files[i][:-5]\n",
    "    #至此,files列表中存放了路径中的所有文件名\n",
    "    #print(files[0])\n",
    "    for mtag in files:\n",
    "        fp=open(r\"%s\\\\%s.json\"%(Route,mtag),\"rt\", encoding='utf-8')\n",
    "        file=[]\n",
    "        for items in fp.readlines():\n",
    "            for item in json.loads(items):\n",
    "                file.append(item)\n",
    "        alldata.append(file)\n",
    "        fp.close()\n",
    "    #效果拔群\n",
    "    #至此，alldata列表中的每项都存放了各个文件的所有内容\n",
    "    #print(alldata[4][7])"
   ]
  },
  {
   "cell_type": "code",
   "execution_count": 55,
   "metadata": {},
   "outputs": [],
   "source": [
    "#插入游戏的函数\n",
    "def insertgame(mtag,idn,name,platforms,pic,price,tags):\n",
    "    if len(price)==0:\n",
    "        return      #价格为空意味着游戏已经下架\n",
    "    name=filt_emo(name)     #为什么有人在游戏名里加emoji？\n",
    "    name=transferContent(name)      #转义真是太难了太难了...\n",
    "    price[0]=filt(price[0])\n",
    "    price[-1]=filt(price[-1])\n",
    "    if float(price[-1][:-1])==0:\n",
    "        cut='0%'\n",
    "    else:\n",
    "        cut=str(int((float(price[-1][:-1])-float(price[0][:-1]))/float(price[-1][:-1])*100))\n",
    "        cut=cut+'%'\n",
    "    sql = \"\"\"INSERT INTO `%s`(`SteamId`, `Name`,`Platforms`, `Pic_url`,`CurrentPrice`, `LowestPrice`, `OriginalPrice` , `Cut`)\n",
    "             VALUES ('%d','%s','%s','%s','%s','%s','%s','%s')\"\"\"%(mtag,idn,name,platforms,pic,filt(price[0]),filt(price[0]),filt(price[-1]),cut)\n",
    "    #try:\n",
    "    curs.execute(sql)\n",
    "    #except:\n",
    "        #conn.rollback()\n",
    "    conn.commit()\n",
    "    inserttag(idn,tags)"
   ]
  },
  {
   "cell_type": "code",
   "execution_count": 56,
   "metadata": {},
   "outputs": [],
   "source": [
    "#转义NMSL，代码我抄的https://blog.csdn.net/lengye7/article/details/79916685\n",
    "def transferContent(content):\n",
    "        if content is None:\n",
    "            return None\n",
    "        else:\n",
    "            string = \"\"\n",
    "            for c in content:\n",
    "                if c == '\"':\n",
    "                    string += '\\\\\\\"'\n",
    "                elif c == \"'\":\n",
    "                    string += \"\\\\\\'\"\n",
    "                elif c == \"\\\\\":\n",
    "                    string += \"\\\\\\\\\"\n",
    "                else:\n",
    "                    string += c\n",
    "            return string"
   ]
  },
  {
   "cell_type": "code",
   "execution_count": 57,
   "metadata": {},
   "outputs": [],
   "source": [
    "#求求你们不要在游戏名里加emoji了！！\n",
    "def filt_emo(name):\n",
    "    restr=''\n",
    "    try:\n",
    "        co = re.compile(u'[\\U00010000-\\U0010ffff]')\n",
    "    except re.error:\n",
    "        co = re.compile(u'[\\uD800-\\uDBFF][\\uDC00-\\uDFFF]')\n",
    "    return co.sub(restr, name)"
   ]
  },
  {
   "cell_type": "code",
   "execution_count": 58,
   "metadata": {},
   "outputs": [],
   "source": [
    "#金钱格式一定要统一啊....\n",
    "def filt(price):\n",
    "    price=re.findall(\"\\d+\\\\.?\\d*\",price)\n",
    "    if len(price)==0:\n",
    "        return '0.00￥'\n",
    "    else:\n",
    "        price=float(price[0])\n",
    "        return '%.2f￥'%price"
   ]
  },
  {
   "cell_type": "code",
   "execution_count": 59,
   "metadata": {},
   "outputs": [],
   "source": [
    "#每日更新数据的函数\n",
    "def updata(mtag,idn,name,platforms,pic,price,tags):\n",
    "    price[0]=filt(price[0])\n",
    "    platform=''\n",
    "    for a in platforms:\n",
    "        platform+=a\n",
    "    sql=\"SELECT * FROM `%s` WHERE SteamId=%d\"%(mtag,idn)\n",
    "    curs.execute(sql)\n",
    "    olddata=curs.fetchone()\n",
    "    if olddata==None:#意味着有新游戏或者游戏遗漏，那么插入游戏\n",
    "        insertgame(mtag,idn,name,platforms,pic,price,tags)\n",
    "        return\n",
    "    if price[0] != olddata[-4]:\n",
    "        recording(mtag,idn,price[0],time)\n",
    "    if float(price[0][:-1]) <float(olddata[-1][:-1]):\n",
    "        lowest=price[0]\n",
    "    else:\n",
    "        lowest=olddata[-1]\n",
    "    if float(price[0][:-1])==0:\n",
    "        cut='0%'\n",
    "    else:\n",
    "        cut=str(int((float(olddata[-3][:-1])-float(price[0][:-1]))/float(olddata[-3][:-1])*100))\n",
    "        cut=cut+'%'\n",
    "    sql='''UPDATE `%s` SET `Platforms` = '%s', `CurrentPrice` = '%s', `Cut` = '%s', `LowestPrice` = '%s' , `Pic_url` = '%s' WHERE `%s`.`SteamId` = %d'''%(mtag,platform,price[0],cut,lowest,pic,mtag,idn)\n",
    "\n",
    "    #try:\n",
    "    curs.execute(sql)\n",
    "    #except:\n",
    "        #conn.rollback()\n",
    "    conn.commit()"
   ]
  },
  {
   "cell_type": "code",
   "execution_count": 60,
   "metadata": {},
   "outputs": [],
   "source": [
    "#在updata表里留下证据\n",
    "def recording(mtag,idn,price,time):\n",
    "    sql = \"\"\"INSERT INTO `%sUpdata`(`SteamId`, `Price`)\n",
    "             VALUES ('%d','%s')\"\"\"%(mtag,idn,price)\n",
    "    #try:\n",
    "    curs.execute(sql)\n",
    "    #except:\n",
    "        #conn.rollback()\n",
    "    conn.commit()"
   ]
  },
  {
   "cell_type": "code",
   "execution_count": 61,
   "metadata": {},
   "outputs": [],
   "source": [
    "#通用更新函数,没用到这个\n",
    "#四个参数为表名，id，需要更新的数据，更新数据的字段名\n",
    "def updatasql(mtag,idn,data,dataname):\n",
    "    sql='''UPDATE `%s` SET `%s` = '%s' WHERE `%s`.`SteamId` = %d'''%(mtag,dataname,data,mtag,idn)\n",
    "    #try:\n",
    "    curs.execute(sql)\n",
    "    #except:\n",
    "        #conn.rollback()\n",
    "    conn.commit()"
   ]
  },
  {
   "cell_type": "code",
   "execution_count": 66,
   "metadata": {},
   "outputs": [
    {
     "ename": "NameError",
     "evalue": "name 'and_list' is not defined",
     "output_type": "error",
     "traceback": [
      "\u001b[1;31m---------------------------------------------------------------------------\u001b[0m",
      "\u001b[1;31mNameError\u001b[0m                                 Traceback (most recent call last)",
      "\u001b[1;32m<ipython-input-66-a7dc2423f41f>\u001b[0m in \u001b[0;36m<module>\u001b[1;34m\u001b[0m\n\u001b[0;32m      3\u001b[0m \u001b[0mstart\u001b[0m\u001b[1;33m(\u001b[0m\u001b[1;33m)\u001b[0m\u001b[1;33m\u001b[0m\u001b[1;33m\u001b[0m\u001b[0m\n\u001b[0;32m      4\u001b[0m \u001b[1;31m#file的第一项是一个字典就行\u001b[0m\u001b[1;33m\u001b[0m\u001b[1;33m\u001b[0m\u001b[1;33m\u001b[0m\u001b[0m\n\u001b[1;32m----> 5\u001b[1;33m \u001b[1;32mfor\u001b[0m \u001b[0mitem\u001b[0m \u001b[1;32min\u001b[0m \u001b[0mand_list\u001b[0m \u001b[1;33m:\u001b[0m\u001b[1;33m\u001b[0m\u001b[1;33m\u001b[0m\u001b[0m\n\u001b[0m\u001b[0;32m      6\u001b[0m     \u001b[0mupdata\u001b[0m\u001b[1;33m(\u001b[0m\u001b[0mitem\u001b[0m\u001b[1;33m[\u001b[0m\u001b[1;34m'block'\u001b[0m\u001b[1;33m]\u001b[0m\u001b[1;33m,\u001b[0m\u001b[0mint\u001b[0m\u001b[1;33m(\u001b[0m\u001b[0mitem\u001b[0m\u001b[1;33m[\u001b[0m\u001b[1;34m'id'\u001b[0m\u001b[1;33m]\u001b[0m\u001b[1;33m)\u001b[0m\u001b[1;33m,\u001b[0m\u001b[0mitem\u001b[0m\u001b[1;33m[\u001b[0m\u001b[1;34m'name'\u001b[0m\u001b[1;33m]\u001b[0m\u001b[1;33m,\u001b[0m\u001b[0mitem\u001b[0m\u001b[1;33m[\u001b[0m\u001b[1;34m'platform'\u001b[0m\u001b[1;33m]\u001b[0m\u001b[1;33m,\u001b[0m\u001b[0mitem\u001b[0m\u001b[1;33m[\u001b[0m\u001b[1;34m'picture'\u001b[0m\u001b[1;33m]\u001b[0m\u001b[1;33m[\u001b[0m\u001b[1;36m0\u001b[0m\u001b[1;33m]\u001b[0m\u001b[1;33m,\u001b[0m\u001b[0mitem\u001b[0m\u001b[1;33m[\u001b[0m\u001b[1;34m'price'\u001b[0m\u001b[1;33m]\u001b[0m\u001b[1;33m,\u001b[0m\u001b[0mitem\u001b[0m\u001b[1;33m[\u001b[0m\u001b[1;34m'tags'\u001b[0m\u001b[1;33m]\u001b[0m\u001b[1;33m)\u001b[0m\u001b[1;33m\u001b[0m\u001b[1;33m\u001b[0m\u001b[0m\n\u001b[0;32m      7\u001b[0m \u001b[0mjs\u001b[0m\u001b[1;33m=\u001b[0m\u001b[0mdatetime\u001b[0m\u001b[1;33m.\u001b[0m\u001b[0mdatetime\u001b[0m\u001b[1;33m.\u001b[0m\u001b[0mnow\u001b[0m\u001b[1;33m(\u001b[0m\u001b[1;33m)\u001b[0m\u001b[1;33m\u001b[0m\u001b[1;33m\u001b[0m\u001b[0m\n",
      "\u001b[1;31mNameError\u001b[0m: name 'and_list' is not defined"
     ]
    }
   ],
   "source": [
    "#每日更新数据\n",
    "ks=datetime.datetime.now()\n",
    "start()\n",
    "#file的第一项是一个字典就行\n",
    "for item in and_list :\n",
    "    updata(item['block'],int(item['id']),item['name'],item['platform'],item['picture'][0],item['price'],item['tags'])\n",
    "js=datetime.datetime.now()\n",
    "print(js-ks)"
   ]
  },
  {
   "cell_type": "code",
   "execution_count": 63,
   "metadata": {},
   "outputs": [],
   "source": [
    "# 关闭连接\n",
    "conn.close()"
   ]
  },
  {
   "cell_type": "code",
   "execution_count": null,
   "metadata": {},
   "outputs": [],
   "source": []
  },
  {
   "cell_type": "code",
   "execution_count": null,
   "metadata": {},
   "outputs": [],
   "source": []
  }
 ],
 "metadata": {
  "kernelspec": {
   "display_name": "Python 3",
   "language": "python",
   "name": "python3"
  },
  "language_info": {
   "codemirror_mode": {
    "name": "ipython",
    "version": 3
   },
   "file_extension": ".py",
   "mimetype": "text/x-python",
   "name": "python",
   "nbconvert_exporter": "python",
   "pygments_lexer": "ipython3",
   "version": "3.7.4"
  }
 },
 "nbformat": 4,
 "nbformat_minor": 4
}