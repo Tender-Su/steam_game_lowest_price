{
 "cells": [
  {
   "cell_type": "code",
   "execution_count": 1,
   "metadata": {},
   "outputs": [],
   "source": [
    "#!/usr/bin/python\n",
    "# -*- coding: UTF-8 -*-\n",
    "#sql牛逼\n",
    "import MySQLdb\n",
    "#zz牛逼教我json\n",
    "import json\n",
    "#你看看你个菜鸡用多久\n",
    "import datetime\n",
    "#系统牛逼\n",
    "import os\n",
    "#历史记录？\n",
    "import time\n",
    "#正则表达式天下第一\n",
    "import re"
   ]
  },
  {
   "cell_type": "code",
   "execution_count": 2,
   "metadata": {},
   "outputs": [],
   "source": [
    "def start():\n",
    "    #万事开头难\n",
    "    global conn,curs\n",
    "    conn = MySQLdb.connect(\"127.0.0.1\", \"root\", \"nideshengri\", \"nidekuzi\", charset='utf8' )\n",
    "    # 使用cursor()方法获取操作游标 \n",
    "    curs = conn.cursor()"
   ]
  },
  {
   "cell_type": "code",
   "execution_count": 3,
   "metadata": {},
   "outputs": [],
   "source": [
    "#遍历并读取所有文件\n",
    "def TransAndReadFile(Route):\n",
    "    global files,alldata\n",
    "    files=[]\n",
    "    alldata=[]\n",
    "    for root, dirs, files in os.walk(r'%s'%Route):\n",
    "        pass\n",
    "    #拜拜了您内.json   \n",
    "    for i in range(len(files)):\n",
    "        files[i]=files[i][:-5]\n",
    "    #至此,files列表中存放了路径中的所有文件名\n",
    "    #print(files[0])\n",
    "    for mtag in files:\n",
    "        fp=open(r\"%s\\\\%s.json\"%(Route,mtag),\"rt\", encoding='utf-8')\n",
    "        file=[]\n",
    "        for items in fp.readlines():\n",
    "            for item in json.loads(items):\n",
    "                file.append(item)\n",
    "        alldata.append(file)\n",
    "        fp.close()\n",
    "    #效果拔群\n",
    "    #至此，alldata列表中的每项都存放了各个文件的所有内容\n",
    "    #print(alldata[4][7])"
   ]
  },
  {
   "cell_type": "code",
   "execution_count": 42,
   "metadata": {},
   "outputs": [],
   "source": [
    "#插两个新表啊\n",
    "def CreateTable(mtag):\n",
    "    sql='''CREATE TABLE `nidekuzi`.`%s` ( `SteamId` INT(100)  , `Name` varchar(200)\t , `Platforms` TEXT , `Pic_url` TEXT  , `CurrentPrice` TEXT ,`OriginalPrice` TEXT  , `Cut` TEXT ,`LowestPrice` TEXT  ,INDEX `Name` (`Name`) , PRIMARY KEY (`SteamId`)) ENGINE = MyISAM'''%mtag\n",
    "    #try:\n",
    "    curs.execute(sql)\n",
    "    #except:\n",
    "        #conn.rollback()\n",
    "    conn.commit()\n",
    "\n",
    "    sql='''CREATE TABLE `nidekuzi`.`%sUpdata` ( `SteamId` INT(100)  ,`Price` TEXT  ,`UpdataTime` TIMESTAMP NOT NULL DEFAULT CURRENT_TIMESTAMP , INDEX (`SteamId`)) ENGINE = MyISAM'''%mtag\n",
    "    #try:\n",
    "    curs.execute(sql)\n",
    "    #except:\n",
    "        #conn.rollback()\n",
    "    conn.commit()"
   ]
  },
  {
   "cell_type": "code",
   "execution_count": 5,
   "metadata": {},
   "outputs": [],
   "source": [
    "#插入游戏tag\n",
    "def inserttag(idn,tags):\n",
    "    for tag in tags.split(','):\n",
    "        sql=\"\"\"INSERT INTO `nidekuzi`.`id_tag`(SteamId,Tag) VALUES (%d,\"%s\")\"\"\"%(idn,tag.lstrip())\n",
    "        #try:\n",
    "        curs.execute(sql)\n",
    "        #except:\n",
    "            #conn.rollback()\n",
    "        conn.commit()"
   ]
  },
  {
   "cell_type": "code",
   "execution_count": 24,
   "metadata": {},
   "outputs": [],
   "source": [
    "#插入游戏的函数\n",
    "def insertgame(idn,name,price,tags):\n",
    "    if len(price)==0:\n",
    "        return      #价格为空意味着游戏已经下架\n",
    "    name=filt_emo(name)     #为什么有人在游戏名里加emoji？\n",
    "    name=transferContent(name)      #转义真是太难了太难了...\n",
    "    price[-1]=filt(price[-1])\n",
    "    price[0]=filt(price[0])\n",
    "    if float(price[-1][:-1])==0:\n",
    "        cut='0%'\n",
    "    else:\n",
    "        cut=str(int((float(price[-1][:-1])-float(price[0][:-1]))/float(price[-1][:-1])*100))\n",
    "        cut=cut+'%'\n",
    "    sql = \"\"\"INSERT INTO `%s`(`SteamId`, `Name`, `CurrentPrice`, `LowestPrice`, `OriginalPrice` , `Cut`)\n",
    "             VALUES ('%d','%s','%s','%s','%s','%s')\"\"\"%(mtag,idn,name,filt(price[0]),filt(price[0]),filt(price[-1]),cut)\n",
    "    try:\n",
    "        curs.execute(sql)\n",
    "    except:\n",
    "        conn.rollback()\n",
    "    conn.commit()\n",
    "    inserttag(idn,tags)"
   ]
  },
  {
   "cell_type": "code",
   "execution_count": 7,
   "metadata": {},
   "outputs": [],
   "source": [
    "#转义NMSL，代码我抄的https://blog.csdn.net/lengye7/article/details/79916685\n",
    "def transferContent(content):\n",
    "        if content is None:\n",
    "            return None\n",
    "        else:\n",
    "            string = \"\"\n",
    "            for c in content:\n",
    "                if c == '\"':\n",
    "                    string += '\\\\\\\"'\n",
    "                elif c == \"'\":\n",
    "                    string += \"\\\\\\'\"\n",
    "                elif c == \"\\\\\":\n",
    "                    string += \"\\\\\\\\\"\n",
    "                else:\n",
    "                    string += c\n",
    "            return string"
   ]
  },
  {
   "cell_type": "code",
   "execution_count": 8,
   "metadata": {},
   "outputs": [],
   "source": [
    "#求求你们不要在游戏名里加emoji了！！\n",
    "def filt_emo(name):\n",
    "    restr=''\n",
    "    try:\n",
    "        co = re.compile(u'[\\U00010000-\\U0010ffff]')\n",
    "    except re.error:\n",
    "        co = re.compile(u'[\\uD800-\\uDBFF][\\uDC00-\\uDFFF]')\n",
    "    return co.sub(restr, name)"
   ]
  },
  {
   "cell_type": "code",
   "execution_count": 21,
   "metadata": {},
   "outputs": [],
   "source": [
    "#金钱格式一定要统一啊....\n",
    "def filt(price):\n",
    "    price=re.findall(\"\\d+\\\\.?\\d*\",price)\n",
    "    if len(price)==0:\n",
    "        return '0.00￥'\n",
    "    else:\n",
    "        price=float(price[0])\n",
    "        return '%.2f￥'%price"
   ]
  },
  {
   "cell_type": "code",
   "execution_count": 10,
   "metadata": {},
   "outputs": [],
   "source": [
    "#插入图片函数\n",
    "def inspic(idn,url):\n",
    "    sql='''UPDATE `%s` SET `Pic_url` = '%s' WHERE `%s`.`SteamId` = %d'''%(mtag,url,mtag,idn)\n",
    "    #try:\n",
    "    curs.execute(sql)\n",
    "    #except:\n",
    "        #conn.rollback()\n",
    "    conn.commit()"
   ]
  },
  {
   "cell_type": "code",
   "execution_count": 40,
   "metadata": {},
   "outputs": [],
   "source": [
    "#更新史低数据的函数\n",
    "def updatalowest(mtag,idn,platforms,newest,cut,lowest,price):\n",
    "    sql=\"SELECT * FROM `%s` WHERE SteamId=%d\"%(mtag,idn)\n",
    "    curs.execute(sql)\n",
    "    olddata=curs.fetchone()\n",
    "    if olddata==None:#意味着有新游戏或者游戏遗漏，那么爬的数据不全\n",
    "        return\n",
    "    if newest.isspace():\n",
    "        newest=olddata[-4]\n",
    "    if cut.isspace():\n",
    "        cut='0%'\n",
    "    if lowest.isspace():\n",
    "        lowest=olddata[-1]\n",
    "    if price.isspace():\n",
    "        price=olddata[-3]\n",
    "    newest=filt(newest)\n",
    "    lowest=filt(lowest)\n",
    "    price=filt(price)\n",
    "    if newest != olddata[-4]:\n",
    "        recording(mtag,idn,newest,time)\n",
    "    sql='''UPDATE `%s` SET `Platforms` = '%s', `CurrentPrice` = '%s', `OriginalPrice` = '%s', `Cut` = '%s', `LowestPrice` = '%s' WHERE `%s`.`SteamId` = %d'''%(mtag,platforms,newest,price,cut,lowest,mtag,idn)\n",
    "    #try:\n",
    "    curs.execute(sql)\n",
    "    #except:\n",
    "        #conn.rollback()\n",
    "    conn.commit()"
   ]
  },
  {
   "cell_type": "code",
   "execution_count": 12,
   "metadata": {},
   "outputs": [],
   "source": [
    "#在updata表里留下证据\n",
    "def recording(mtag,idn,price,time):\n",
    "    sql = \"\"\"INSERT INTO `%sUpdata`(`SteamId`, `Price`)\n",
    "             VALUES ('%d','%s')\"\"\"%(mtag,idn,price)\n",
    "    #try:\n",
    "    curs.execute(sql)\n",
    "    #except:\n",
    "        #conn.rollback()\n",
    "    conn.commit()"
   ]
  },
  {
   "cell_type": "code",
   "execution_count": 13,
   "metadata": {},
   "outputs": [],
   "source": [
    "#通用更新函数\n",
    "#四个参数为表名，id，需要更新的数据，更新数据的字段名\n",
    "def updatasql(mtag,idn,data,dataname):\n",
    "    sql='''UPDATE `%s` SET `%s` = '%s' WHERE `%s`.`SteamId` = %d'''%(mtag,dataname,data,mtag,idn)\n",
    "    #try:\n",
    "    curs.execute(sql)\n",
    "    #except:\n",
    "        #conn.rollback()\n",
    "    conn.commit()"
   ]
  },
  {
   "cell_type": "code",
   "execution_count": 43,
   "metadata": {},
   "outputs": [
    {
     "name": "stdout",
     "output_type": "stream",
     "text": "0:00:53.708784\n"
    }
   ],
   "source": [
    "#主函数来了！！！！\n",
    "#插入id，游戏名，价格标签\n",
    "ks=datetime.datetime.now()\n",
    "TransAndReadFile(r'C:\\Users\\Su\\OneDrive\\steam\\bas')\n",
    "start()\n",
    "for file,mtag in zip(alldata,files):\n",
    "    CreateTable(mtag)\n",
    "    for item in file :\n",
    "        insertgame(int(item['id']),item['name'],item['price'],item['tags'])\n",
    "js=datetime.datetime.now()\n",
    "print(js-ks)"
   ]
  },
  {
   "cell_type": "code",
   "execution_count": 44,
   "metadata": {},
   "outputs": [
    {
     "name": "stdout",
     "output_type": "stream",
     "text": "0:00:10.589207\n"
    }
   ],
   "source": [
    "#插入图片地址，这段代码好像有点费时间\n",
    "ks=datetime.datetime.now()\n",
    "TransAndReadFile(r'C:\\Users\\Su\\OneDrive\\steam\\pic')\n",
    "start()\n",
    "for file,mtag in zip(alldata,files):\n",
    "    for item in file :\n",
    "        updatasql(mtag,int(item['id']),item['picture'],'Pic_url')\n",
    "js=datetime.datetime.now()\n",
    "print(js-ks)"
   ]
  },
  {
   "cell_type": "code",
   "execution_count": 45,
   "metadata": {},
   "outputs": [
    {
     "name": "stdout",
     "output_type": "stream",
     "text": "0:00:21.326508\n"
    }
   ],
   "source": [
    "#更新史低数据\n",
    "ks=datetime.datetime.now()\n",
    "TransAndReadFile(r'C:\\Users\\Su\\OneDrive\\steam\\updata')\n",
    "start()\n",
    "app=0\n",
    "for file,mtag in zip(alldata,files):\n",
    "    for item in file :\n",
    "        if item['id']=='app':\n",
    "            app+=1\n",
    "        else:\n",
    "            updatalowest(mtag,int(item['id']),item['platforms'],item['newest'],item['cut'],item['lowest'],item['price'])\n",
    "js=datetime.datetime.now()\n",
    "print(js-ks)"
   ]
  },
  {
   "cell_type": "code",
   "execution_count": 0,
   "metadata": {},
   "outputs": [],
   "source": [
    "# 关闭连接\n",
    "conn.close()"
   ]
  },
  {
   "cell_type": "code",
   "execution_count": 0,
   "metadata": {},
   "outputs": [],
   "source": [
    "'''# SQL 删除语句\n",
    "sql = \"DELETE FROM games \"\n",
    "try:\n",
    "   # 执行SQL语句\n",
    "   curs.execute(sql)\n",
    "   # 提交修改\n",
    "   conn.commit()\n",
    "except:\n",
    "   # 发生错误时回滚\n",
    "   conn.rollback()'''"
   ]
  },
  {
   "cell_type": "code",
   "execution_count": 0,
   "metadata": {},
   "outputs": [],
   "source": [
    "#我是傻逼,我不会用json\n",
    "'''#正则表达式天下第一\n",
    "import re\n",
    "allgames=[]\n",
    "for largeitem in content:\n",
    "    for item in largeitem.split(\"}\"):\n",
    "        if len(item)<5 :\n",
    "            continue\n",
    "        else:\n",
    "            #item=re.findall('\"(.*?)\"',item)\n",
    "            allgames.append(item)'''"
   ]
  },
  {
   "cell_type": "code",
   "execution_count": 0,
   "metadata": {},
   "outputs": [],
   "source": [
    "#产品经理wyx一开始比较喜欢写0\n",
    "'''#插入所有的标签\n",
    "for item in allgames:\n",
    "    for tag in item['tags'].split(','):\n",
    "        zjzd(tag)'''"
   ]
  }
 ],
 "metadata": {
  "kernelspec": {
   "display_name": "Python 3",
   "language": "python",
   "name": "python3"
  },
  "language_info": {
   "codemirror_mode": {
    "name": "ipython",
    "version": 3
   },
   "file_extension": ".py",
   "mimetype": "text/x-python",
   "name": "python",
   "nbconvert_exporter": "python",
   "pygments_lexer": "ipython3",
   "version": "3.7.4"
  }
 },
 "nbformat": 4,
 "nbformat_minor": 4
}