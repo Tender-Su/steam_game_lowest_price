{
 "nbformat": 4,
 "nbformat_minor": 2,
 "metadata": {
  "language_info": {
   "name": "python",
   "codemirror_mode": {
    "name": "ipython",
    "version": 3
   },
   "version": "3.7.4"
  },
  "orig_nbformat": 2,
  "file_extension": ".py",
  "mimetype": "text/x-python",
  "name": "python",
  "npconvert_exporter": "python",
  "pygments_lexer": "ipython3",
  "version": 3
 },
 "cells": [
  {
   "cell_type": "code",
   "execution_count": 1,
   "metadata": {},
   "outputs": [],
   "source": [
    "import MySQLdb"
   ]
  },
  {
   "cell_type": "code",
   "execution_count": 2,
   "metadata": {},
   "outputs": [],
   "source": [
    "def start():\n",
    "    #万事开头难\n",
    "    global conn,curs\n",
    "    conn = MySQLdb.connect(\"127.0.0.1\", \"root\", \"nideshengri\", \"nidekuzi\", charset='utf8' )\n",
    "    # 使用cursor()方法获取操作游标 \n",
    "    curs = conn.cursor()"
   ]
  },
  {
   "cell_type": "code",
   "execution_count": 50,
   "metadata": {},
   "outputs": [
    {
     "name": "stdout",
     "output_type": "stream",
     "text": "{'20191218': 88.0, '20191223': 32.0}\n"
    }
   ],
   "source": [
    "#交差！！\n",
    "start()\n",
    "name='Dead by Daylight'#这里输入名字，可以用input\n",
    "mtags=['massively multiplayer','Action','Adventure','Casual','Indie','RPG','Simulation','Racing','Sports','Strategy']\n",
    "dic={}\n",
    "for mtag in mtags:\n",
    "    sql='SELECT `%s`.`SteamId` FROM `%s` WHERE `%s`.`Name`=\"%s\"'%(mtag,mtag,mtag,name)\n",
    "    curs.execute(sql)\n",
    "    idn=curs.fetchone()\n",
    "    if idn==None:\n",
    "        continue\n",
    "    else:\n",
    "        mtag+='updata'\n",
    "        sql=\"SELECT * FROM `%s` WHERE `%s`.`SteamId`='%s'\"%(mtag,mtag,idn[0])\n",
    "        curs.execute(sql)\n",
    "        datas=curs.fetchall()\n",
    "        for data in datas:\n",
    "            price=float(data[1][:-1])\n",
    "            time=data[-1]\n",
    "            time=time.strftime(\"%Y%m%d\")\n",
    "            dic[time]=price\n",
    "print(dic)"
   ]
  },
  {
   "cell_type": "code",
   "execution_count": null,
   "metadata": {},
   "outputs": [],
   "source": []
  }
 ]
}